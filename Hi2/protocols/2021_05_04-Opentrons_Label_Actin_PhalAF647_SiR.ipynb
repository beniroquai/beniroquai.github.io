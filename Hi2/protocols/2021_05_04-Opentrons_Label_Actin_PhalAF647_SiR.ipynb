{
 "cells": [
  {
   "cell_type": "code",
   "execution_count": 1,
   "metadata": {},
   "outputs": [],
   "source": [
    "# organize the imports\n",
    "import opentrons.execute\n",
    "from opentrons import types \n",
    "import time\n",
    "import numpy as np\n"
   ]
  },
  {
   "cell_type": "code",
   "execution_count": 2,
   "metadata": {},
   "outputs": [
    {
     "data": {
      "text/plain": [
       "'/usr/lib/python3.7/site-packages/opentrons/__init__.pyc'"
      ]
     },
     "execution_count": 2,
     "metadata": {},
     "output_type": "execute_result"
    }
   ],
   "source": [
    "import opentrons\n",
    "opentrons.__file__"
   ]
  },
  {
   "cell_type": "code",
   "execution_count": 8,
   "metadata": {},
   "outputs": [],
   "source": [
    "#!pip3 install zeroconf\n",
    "#!pip3 install requests\n",
    "\n",
    "# Connect to the microscope \n",
    "from microscope_client import MicroscopeClient \n",
    "microscope = MicroscopeClient(host=\"192.168.178.33\", port=5000)\n"
   ]
  },
  {
   "cell_type": "code",
   "execution_count": null,
   "metadata": {},
   "outputs": [],
   "source": []
  },
  {
   "cell_type": "code",
   "execution_count": 4,
   "metadata": {},
   "outputs": [
    {
     "name": "stderr",
     "output_type": "stream",
     "text": [
      "Failed to initialize character device, will not be able to control gpios (lights, button, smoothiekill, smoothie reset). Only one connection can be made to the gpios at a time. If you need to control gpios, first stop the robot server with systemctl stop opentrons-robot-server. Until you restart the server with systemctl start opentrons-robot-server, you will be unable to control the robot using the Opentrons app.\n",
      "Out of bounds move: X=(418.00000000000006 motor controller, 419.5412429817696 deck) too high for limit 418.0\n",
      "Out of bounds move: X=(418.00000000000006 motor controller, 419.5412429817696 deck) too high for limit 418.0\n"
     ]
    }
   ],
   "source": [
    "# Connect to the opentrons robot\n",
    "protocol = opentrons.execute.get_protocol_api('2.9')\n",
    "protocol.home()\n",
    "\n",
    "# setup the pipets\n",
    "pipette = protocol.load_instrument('p300_single_gen2', 'right')\n",
    "pipette_8 = protocol.load_instrument('p300_multi', 'left') # causes errors -> don't use two pipettes!!\n"
   ]
  },
  {
   "cell_type": "code",
   "execution_count": 2,
   "metadata": {},
   "outputs": [],
   "source": []
  },
  {
   "cell_type": "code",
   "execution_count": 9,
   "metadata": {},
   "outputs": [
    {
     "ename": "ValueError",
     "evalue": "Deck location 7 already  has an item: <opentrons.protocols.implementations.labware.LabwareImplementation object at 0x6eeaa210>",
     "output_type": "error",
     "traceback": [
      "\u001b[0;31m---------------------------------------------------------------------------\u001b[0m",
      "\u001b[0;31mValueError\u001b[0m                                Traceback (most recent call last)",
      "\u001b[0;32m<ipython-input-9-f12ec4c0ea71>\u001b[0m in \u001b[0;36m<module>\u001b[0;34m()\u001b[0m\n\u001b[1;32m      1\u001b[0m \u001b[0;31m# setup the labware in the trays\u001b[0m\u001b[0;34m\u001b[0m\u001b[0;34m\u001b[0m\u001b[0;34m\u001b[0m\u001b[0m\n\u001b[1;32m      2\u001b[0m \u001b[0;31m#plate_microscope = protocol.load_labware('corning_96_wellplate_360ul_flat', location='5')\u001b[0m\u001b[0;34m\u001b[0m\u001b[0;34m\u001b[0m\u001b[0;34m\u001b[0m\u001b[0m\n\u001b[0;32m----> 3\u001b[0;31m \u001b[0mplate_reagents\u001b[0m \u001b[0;34m=\u001b[0m \u001b[0mprotocol\u001b[0m\u001b[0;34m.\u001b[0m\u001b[0mload_labware\u001b[0m\u001b[0;34m(\u001b[0m\u001b[0;34m'corning_24_wellplate_3.4ml_flat'\u001b[0m\u001b[0;34m,\u001b[0m \u001b[0mlocation\u001b[0m\u001b[0;34m=\u001b[0m\u001b[0;34m'7'\u001b[0m\u001b[0;34m)\u001b[0m\u001b[0;34m\u001b[0m\u001b[0;34m\u001b[0m\u001b[0m\n\u001b[0m\u001b[1;32m      4\u001b[0m \u001b[0;34m\u001b[0m\u001b[0m\n\u001b[1;32m      5\u001b[0m \u001b[0;31m# Move light to the sample\u001b[0m\u001b[0;34m\u001b[0m\u001b[0;34m\u001b[0m\u001b[0;34m\u001b[0m\u001b[0m\n",
      "\u001b[0;32m/usr/lib/python3.7/site-packages/opentrons/protocols/api_support/util.pyc\u001b[0m in \u001b[0;36m_check_version_wrapper\u001b[0;34m(*args, **kwargs)\u001b[0m\n",
      "\u001b[0;32m/usr/lib/python3.7/site-packages/opentrons/protocol_api/protocol_context.pyc\u001b[0m in \u001b[0;36mload_labware\u001b[0;34m(self, load_name, location, label, namespace, version)\u001b[0m\n",
      "\u001b[0;32m/usr/lib/python3.7/site-packages/opentrons/protocols/implementations/protocol_context.pyc\u001b[0m in \u001b[0;36mload_labware\u001b[0;34m(self, load_name, location, label, namespace, version)\u001b[0m\n",
      "\u001b[0;32m/usr/lib/python3.7/site-packages/opentrons/protocols/implementations/protocol_context.pyc\u001b[0m in \u001b[0;36mload_labware_from_definition\u001b[0;34m(self, labware_def, location, label)\u001b[0m\n",
      "\u001b[0;32m/usr/lib/python3.7/site-packages/opentrons/protocols/geometry/deck.pyc\u001b[0m in \u001b[0;36m__setitem__\u001b[0;34m(self, key, val)\u001b[0m\n",
      "\u001b[0;31mValueError\u001b[0m: Deck location 7 already  has an item: <opentrons.protocols.implementations.labware.LabwareImplementation object at 0x6eeaa210>"
     ]
    }
   ],
   "source": [
    "# setup the labware in the trays\n",
    "#plate_microscope = protocol.load_labware('corning_96_wellplate_360ul_flat', location='5')\n",
    "plate_reagents = protocol.load_labware('corning_24_wellplate_3.4ml_flat', location='9')\n",
    "\n",
    "# Move light to the sample \n",
    "tiprack = protocol.load_labware('opentrons_96_filtertiprack_200ul',location='8')\n",
    "\n",
    "# sample plate on microscope\n",
    "# offset of the well plate in mm\n",
    "offset_well_x = 100\n",
    "offset_well_y = 10\n",
    "offset_well_z = 10\n",
    "plate_sample = protocol.load_labware('corning_96_wellplate_360ul_flat', location='3')"
   ]
  },
  {
   "cell_type": "code",
   "execution_count": 72,
   "metadata": {},
   "outputs": [],
   "source": [
    "from opentrons.types import Location, Point\n",
    "\n",
    "# set speed\n",
    "protocol.max_speeds['X'] = 200 # default = 400\n",
    "protocol.max_speeds['Y'] = 200 # default = 300\n",
    "\n",
    "\n",
    "# ######\n",
    "# 0 4 8\n",
    "# 1 5 9\n",
    "# 2 6 10 \n",
    "# 3 7 11\n",
    "\n",
    "# wells with reagents\n",
    "i_phal = 0\n",
    "i_sir = 1\n",
    "i_pbs = 2\n",
    "i_trash = 3\n",
    "\n",
    "# general aspiration volume\n",
    "V_aspirate = 200\n",
    "\n",
    "# move it down since opentrons expects the reagents to be furthter away from the ground\n",
    "offset_z_reagents = -20\n",
    "\n",
    "# define locations \n",
    "minimum_z_height = 150 # minimum height for arcs driven by the robot\n",
    "position_sample_light = (252, 100, 210)\n",
    "\n",
    "# compute the positions\n",
    "position_idle =  (200,200,140)#\n",
    "position_phal = list(plate_reagents.well(i_phal).center()._point)\n",
    "position_sir = list(plate_reagents.well(i_sir).center()._point)\n",
    "position_pbs = list(plate_reagents.well(i_pbs).center()._point)\n",
    "position_trash = list(plate_reagents.well(i_trash).center()._point)\n",
    "\n",
    "\n",
    "def move_to_coord(pipette, position_xyz, offset = (0,0,0), minimum_z_height=190):\n",
    "    if pipette._last_tip_picked_up_from is None:\n",
    "        print(\"Please add a pipette first!\")\n",
    "        \n",
    "        \n",
    "    position_final = (position_xyz[0]+offset[0],\n",
    "                        position_xyz[1]+offset[1],\n",
    "                        position_xyz[2]+offset[2])\n",
    "    print(\"Moving to: \"+str(position_final))                       \n",
    "    pipette.move_to(Location(Point(*position_final), None),minimum_z_height=minimum_z_height)\n",
    "\n",
    "\n",
    "def pickup_fresh_pipette_tip(i_pipette, pipette, tiprack, z_offset=-3):\n",
    "    try:\n",
    "        my_fresh_tip = tiprack.wells()[i_pipette]\n",
    "        adjusted_location = my_fresh_tip.center().move(types.Point(x=0, y=0, z=z_offset))\n",
    "        pipette.pick_up_tip(adjusted_location)\n",
    "    except Exception as e:\n",
    "        print(e)\n",
    "        i_pipette += 1\n",
    "        print(\"no pipette attached\")\n",
    "        pipette.drop_tip()\n",
    "        pipette.pick_up_tip(my_fresh_tip)\n",
    "\n",
    "    return i_pipette\n",
    "\n",
    "\n",
    "def takesnapshot(pipette, position_sample_light, offset=(2,-2,0), I_led=1, I_laser=0):\n",
    "    microscope.set_laser_led(I_laser,I_led)\n",
    "    move_to_coord(pipette, position_sample_light, offset=offset, minimum_z_height=minimum_z_height)\n",
    "    microscope.capture_image_to_disk()\n",
    "    microscope.set_laser_led(0,0)\n",
    "    \n",
    "def wellscan(microscope, offset_x, offset_y, i_experiment,\n",
    "        Nx=3, Ny=3, well_to_well_steps = 9000,\n",
    "        autofocus_dz=2000, autofocus_Nz=11,\n",
    "            name_experiment=\"wellscan_\",\n",
    "            focus_pos_list=None, is_autofocus=True, \n",
    "            I_laser=0, I_led=1):\n",
    "    \"\"\"\n",
    "    Save a set of images in a wellscan\n",
    "\n",
    "    Args:\n",
    "        microscope: Microscope object\n",
    "        offset_x (int): Number of images to take\n",
    "        offset_y (int/float): Time, in seconds, between sequential captures\n",
    "    \"\"\"\n",
    "    folder = \"wellscan_\"\n",
    "\n",
    "    # cast variables\n",
    "    Nx = int(Nx)\n",
    "    Ny = int(Ny)\n",
    "    t_period = int(t_period)\n",
    "    well_to_well_steps = int(well_to_well_steps)\n",
    "    \n",
    "    # get current z-position for the stage\n",
    "    offset_z = microscope.stage.position[-1]\n",
    "\n",
    "    # move to the home positoin\n",
    "    print(\"Start moving to the position\")\n",
    "    \n",
    "    # go to the first location\n",
    "    microscope.move((offset_x,offset_y,offset_z), absolute=True)\n",
    "\n",
    "    # in case we have focus positions available, skip it\n",
    "    print(\"Start scan\")\n",
    "    #%%\n",
    "    if focus_pos_list is None:\n",
    "        focus_pos_list = []\n",
    "        \n",
    "    folder = \"WELLSCAN_{}\".format(base_file_name)\n",
    "\n",
    "    # preset variables\n",
    "    i_image = 0\n",
    "    i_well = 0\n",
    "    last_offset_z_row = offset_z\n",
    "    for wellpos_y in range(Nx):\n",
    "        for wellpos_x in range(Nx):\n",
    "\n",
    "            if last_offset_z_row == 0:\n",
    "                offset_z = last_offset_z_row\n",
    "\n",
    "            print(\"Move microscope\")\n",
    "            current_x, current_y = offset_x+well_to_well_steps*wellpos_x,offset_y+well_to_well_steps*wellpos_y\n",
    "\n",
    "            if is_autofocus:\n",
    "                microscope.move((current_x, current_y, offset_z), absolute=True)\n",
    "                \n",
    "                # turn on laser/led and perform autofocus\n",
    "                microscope.set_laser_led(I_laser,I_led)\n",
    "                offset_z = autofocus_coarse(dz=autofocus_dz, nz=autofocus_Nz, is_uselight=True)\n",
    "                microscope.set_laser_led(0,0)                \n",
    "                focus_pos_list.append(offset_z)\n",
    "\n",
    "                if last_offset_z_row == 0:\n",
    "                    last_offset_z_row = offset_z\n",
    "            else:\n",
    "                offset_z = focus_pos_list[i_well]\n",
    "                microscope.move((current_x, current_y, offset_z), absolute=True)\n",
    "\n",
    "            print(\"offset_z:\"+str(offset_z))\n",
    "            \n",
    "            # debounce\n",
    "            time.sleep(.5)\n",
    "            \n",
    "            # turn on light and take an image\n",
    "            if I_laser > 0:\n",
    "                params = {\n",
    "                    \"use_video_port\": True,\n",
    "                    \"bayer\": False,\n",
    "                    \"temporary\" :False,\n",
    "                    \"tags\": \"xy_scan_\"+str(wellpos_x)+\"_\"+str(wellpos_y),\n",
    "                    \"filename\": name_experiment+\"FLOU_\"+str(i_experiment)+\"_\"+\n",
    "                                str(i_well)+\"_\"+str(i_image)+\n",
    "                                \"_\"+str(wellpos_x)+\"_\"+str(wellpos_y), \n",
    "                    \"folder\": folder\n",
    "                }\n",
    "                microscope.set_laser_led(I_laser,0)\n",
    "                microscope.capture_image_to_disk(params)\n",
    "            if I_led > 0:\n",
    "                params = {\n",
    "                    \"use_video_port\": True,\n",
    "                    \"bayer\": False,\n",
    "                    \"temporary\" :False,\n",
    "                    \"tags\": \"xy_scan_\"+str(wellpos_x)+\"_\"+str(wellpos_y),\n",
    "                    \"filename\": name_experiment+\"BF_\"+str(i_experiment)+\"_\"+\n",
    "                                str(i_well)+\"_\"+str(i_image)+\n",
    "                                \"_\"+str(wellpos_x)+\"_\"+str(wellpos_y), \n",
    "                    \"folder\": folder\n",
    "                }\n",
    "                microscope.set_laser_led(0,1)\n",
    "                microscope.capture_image_to_disk(params)\n",
    "            microscope.set_laser_led(0,0)            \n",
    "            print(filename)\n",
    "            i_image += 1\n",
    "            i_well += 1\n",
    "\n",
    "    i_experiment += 1\n",
    "    return focus_pos_list\n",
    "\n",
    "def autofocus_coarse(dz=1000, nz=11, is_uselight=False):\n",
    "    if is_uselight:\n",
    "        microscope.set_laser_led(0,1)\n",
    "        time.sleep(.2)\n",
    "    payload = {'dz': list(np.linspace(-dz,dz,nz))}\n",
    "    print(\"Focusing: \"+str(payload))\n",
    "    microscope.extensions[\"org.openflexure.autofocus\"][\"autofocus\"].post_json(payload)\n",
    "    if is_uselight:\n",
    "        microscope.set_laser_led(0,1)\n",
    "    return microscope.position['z']\n"
   ]
  },
  {
   "cell_type": "code",
   "execution_count": 51,
   "metadata": {},
   "outputs": [
    {
     "name": "stdout",
     "output_type": "stream",
     "text": [
      "Please add a pipette first!\n",
      "Moving to: (252, 163, 200)\n"
     ]
    }
   ],
   "source": [
    "#protocol.home()\n",
    "i_pipette = 0 \n",
    "home_position_microscope=(0,0,0)\n"
   ]
  },
  {
   "cell_type": "code",
   "execution_count": 74,
   "metadata": {},
   "outputs": [
    {
     "name": "stdout",
     "output_type": "stream",
     "text": [
      "Focusing: {'dz': [-1000.0, -500.0, 0.0, 500.0, 1000.0]}\n"
     ]
    },
    {
     "data": {
      "text/plain": [
       "1889"
      ]
     },
     "execution_count": 74,
     "metadata": {},
     "output_type": "execute_result"
    }
   ],
   "source": [
    "# autofocus_coarse(dz=1000, nz=5, is_uselight=True)"
   ]
  },
  {
   "cell_type": "markdown",
   "metadata": {},
   "source": [
    "# Do a time-lapse for an hour"
   ]
  },
  {
   "cell_type": "code",
   "execution_count": null,
   "metadata": {},
   "outputs": [],
   "source": [
    "# Microscope coordinates\n",
    "offset_x = 8000\n",
    "offset_y = 4000\n",
    "i_experiment = 0\n",
    "Nx=8\n",
    "Ny=3\n",
    "well_to_well_steps = 9000\n",
    "autofocus_dz = 2000\n",
    "autofocus_Nz=11\n",
    "\n",
    "mytime = time.time()\n",
    "i_timelapse_before = 1\n",
    "t_duration = 60 # minutes\n",
    "focus_pos_list = None # start with a fresh list\n",
    "while ((time.time()-mytime)<(t_duration*60)):\n",
    "    time_now = time.time()\n",
    "    \n",
    "    # perform a testing well scan by moving robot to light position and do a whole plate scan\n",
    "    move_to_coord(pipette_8, position_sample_light, offset=(0,0,0), minimum_z_height=minimum_z_height)\n",
    "    focus_pos_list = wellscan(microscope, offset_x, offset_y, i_experiment,\n",
    "            Nx, Ny, well_to_well_steps,\n",
    "            autofocus_dz, autofocus_Nz,\n",
    "                name_experiment=\"wellscan_\",\n",
    "                focus_pos_list=focus_pos_list, is_autofocus=True, \n",
    "                I_laser=0, I_led=1)"
   ]
  },
  {
   "cell_type": "code",
   "execution_count": 58,
   "metadata": {},
   "outputs": [],
   "source": [
    "microscope.set_laser_led(0,0)"
   ]
  },
  {
   "cell_type": "markdown",
   "metadata": {},
   "source": [
    "# Add AF647Phal"
   ]
  },
  {
   "cell_type": "code",
   "execution_count": 34,
   "metadata": {},
   "outputs": [
    {
     "name": "stdout",
     "output_type": "stream",
     "text": [
      "Cannot pick up tip with a tip attached\n",
      "no pipette attached\n"
     ]
    },
    {
     "name": "stderr",
     "output_type": "stream",
     "text": [
      "WARNING:opentrons.hardware_control.util:Out of bounds move: A=(171.65 motor controller, 171.65 deck) too high for limit 170.15\n",
      "WARNING:opentrons.hardware_control.util:Out of bounds move: A=(171.65 motor controller, 171.65 deck) too high for limit 170.15\n"
     ]
    },
    {
     "name": "stdout",
     "output_type": "stream",
     "text": [
      "Moving to: (17.48, 214.07, -8.43)\n"
     ]
    },
    {
     "name": "stderr",
     "output_type": "stream",
     "text": [
      "WARNING:opentrons.hardware_control.util:Out of bounds move: A=(171.65 motor controller, 171.65 deck) too high for limit 170.15\n"
     ]
    },
    {
     "name": "stdout",
     "output_type": "stream",
     "text": [
      "Moving to: (252, 133, 131)\n"
     ]
    },
    {
     "name": "stderr",
     "output_type": "stream",
     "text": [
      "WARNING:opentrons.hardware_control.util:Out of bounds move: A=(171.65 motor controller, 171.65 deck) too high for limit 170.15\n",
      "WARNING:opentrons.hardware_control.util:Out of bounds move: A=(171.65 motor controller, 171.65 deck) too high for limit 170.15\n"
     ]
    },
    {
     "name": "stdout",
     "output_type": "stream",
     "text": [
      "Moving to: (17.48, 214.07, -8.43)\n"
     ]
    },
    {
     "name": "stderr",
     "output_type": "stream",
     "text": [
      "WARNING:opentrons.hardware_control.util:Out of bounds move: A=(171.65 motor controller, 171.65 deck) too high for limit 170.15\n"
     ]
    }
   ],
   "source": [
    "V_aspirate = 100\n",
    "\n",
    "# move the wellplate to the zero position with the microscope\n",
    "microscope.move(home_position_microscope, absolute=True)\n",
    "\n",
    "# 1. Pickup new pipette\n",
    "i_pipette = pickup_fresh_pipette_tip(i_pipette, pipette, tiprack, -8)\n",
    "\n",
    "V_aspirates_phal = (10,20,50,75,100,150,200,250)\n",
    "for i_pos in range(len(plate_sample.rows())):\n",
    "    \n",
    "    # 2. Pickup Reagent depending on current iteration\n",
    "    move_to_coord(pipette, position_phal, offset=(0,0,offset_z_reagents), minimum_z_height=minimum_z_height)\n",
    "    pipette.aspirate(V_aspirates_phal[i_pos])\n",
    "    \n",
    "    # 3. Move to Sample location and mix it with the sample\n",
    "    position_sample_i = np.array(plate_sample.rows()[i_phal][i_pos].center()._point)+np.array((offset_well_x,offset_well_y,offset_well_z))\n",
    "    move_to_coord(pipette, position_sample_i, offset=(0,0,offset_z_reagents), minimum_z_height=minimum_z_height)\n",
    "    pipette.dispense()\n",
    "    pipette.mix(3)\n"
   ]
  },
  {
   "cell_type": "markdown",
   "metadata": {},
   "source": [
    "# Add SiR"
   ]
  },
  {
   "cell_type": "code",
   "execution_count": 35,
   "metadata": {},
   "outputs": [
    {
     "name": "stderr",
     "output_type": "stream",
     "text": [
      "WARNING:opentrons.hardware_control.util:Out of bounds move: A=(171.65 motor controller, 171.65 deck) too high for limit 170.15\n"
     ]
    },
    {
     "name": "stdout",
     "output_type": "stream",
     "text": [
      "Moving to: (252, 133, 131)\n"
     ]
    },
    {
     "name": "stderr",
     "output_type": "stream",
     "text": [
      "WARNING:opentrons.hardware_control.util:Out of bounds move: A=(171.65 motor controller, 171.65 deck) too high for limit 170.15\n",
      "WARNING:opentrons.hardware_control.util:Out of bounds move: A=(171.65 motor controller, 171.65 deck) too high for limit 170.15\n"
     ]
    },
    {
     "name": "stdout",
     "output_type": "stream",
     "text": [
      "Moving to: (36.78, 252.67000000000002, 11.57)\n"
     ]
    },
    {
     "name": "stderr",
     "output_type": "stream",
     "text": [
      "WARNING:opentrons.hardware_control.util:Out of bounds move: A=(171.65 motor controller, 171.65 deck) too high for limit 170.15\n"
     ]
    }
   ],
   "source": [
    "V_aspirate = 100\n",
    "\n",
    "# move the wellplate to the zero position with the microscope\n",
    "microscope.move(home_position_microscope, absolute=True)\n",
    "\n",
    "# 1. Pickup new pipette\n",
    "i_pipette = pickup_fresh_pipette_tip(i_pipette, pipette, tiprack, -8)\n",
    "\n",
    "V_aspirates_sir = (10,20,50,75,100,150,200,250)\n",
    "for i_pos in range(len(plate_sample.rows())):\n",
    "    \n",
    "    # 2. Pickup Reagent depending on current iteration\n",
    "    move_to_coord(pipette, position_sir, offset=(0,0,offset_z_reagents), minimum_z_height=minimum_z_height)\n",
    "    pipette.aspirate(V_aspirates_sir[i_pos])\n",
    "    \n",
    "    # 3. Move to Sample location and mix it with the sample\n",
    "    position_sample_i = np.array(plate_sample.rows()[1i_sir][i_pos].center()._point)+np.array((offset_well_x,offset_well_y,offset_well_z))\n",
    "    move_to_coord(pipette, position_sample_i, offset=(0,0,offset_z_reagents), minimum_z_height=minimum_z_height)\n",
    "    pipette.dispense()\n",
    "    pipette.mix(3)\n"
   ]
  },
  {
   "cell_type": "markdown",
   "metadata": {},
   "source": [
    "# Do timelapse for an hour"
   ]
  },
  {
   "cell_type": "code",
   "execution_count": 38,
   "metadata": {},
   "outputs": [
    {
     "name": "stdout",
     "output_type": "stream",
     "text": [
      "Please add a pipette first!\n",
      "Moving to: (252, 166, 200)\n",
      "(252, 166, 200)\n"
     ]
    }
   ],
   "source": [
    "# Microscope coordinates\n",
    "mytime = time.time()\n",
    "i_timelapse_before = 1\n",
    "t_duration = 60 # minutes\n",
    "focus_pos_list = None # start with a fresh list\n",
    "while ((time.time()-mytime)<(t_duration*60)):\n",
    "    time_now = time.time()\n",
    "    \n",
    "    # perform a testing well scan by moving robot to light position and do a whole plate scan\n",
    "    move_to_coord(pipette_8, position_sample_light, offset=(0,0,0), minimum_z_height=minimum_z_height)\n",
    "    focus_pos_list = wellscan(microscope, offset_x, offset_y, i_experiment,\n",
    "            Nx, Ny, well_to_well_steps,\n",
    "            autofocus_dz, autofocus_Nz,\n",
    "                name_experiment=\"wellscan_\",\n",
    "                focus_pos_list=focus_pos_list, is_autofocus=True, \n",
    "                I_laser=0, I_led=1)"
   ]
  },
  {
   "cell_type": "markdown",
   "metadata": {},
   "source": [
    "# Wash sample 3x "
   ]
  },
  {
   "cell_type": "code",
   "execution_count": 100,
   "metadata": {},
   "outputs": [
    {
     "name": "stdout",
     "output_type": "stream",
     "text": [
      "Moving to: (17.48, 252.67000000000002, -3.4299999999999997)\n"
     ]
    },
    {
     "name": "stderr",
     "output_type": "stream",
     "text": [
      "WARNING:opentrons.hardware_control.util:Out of bounds move: A=(171.65 motor controller, 171.65 deck) too high for limit 170.15\n",
      "WARNING:opentrons.hardware_control.util:Out of bounds move: A=(171.65 motor controller, 171.65 deck) too high for limit 170.15\n",
      "WARNING:opentrons.hardware_control.util:Out of bounds move: A=(171.65 motor controller, 171.65 deck) too high for limit 170.15\n"
     ]
    },
    {
     "name": "stdout",
     "output_type": "stream",
     "text": [
      "Moving to: (252, 133, 131)\n"
     ]
    },
    {
     "name": "stderr",
     "output_type": "stream",
     "text": [
      "WARNING:opentrons.hardware_control.util:Out of bounds move: A=(171.65 motor controller, 171.65 deck) too high for limit 170.15\n"
     ]
    },
    {
     "ename": "TypeError",
     "evalue": "move_to_coord() missing 1 required positional argument: 'position_xyz'",
     "output_type": "error",
     "traceback": [
      "\u001b[0;31m---------------------------------------------------------------------------\u001b[0m",
      "\u001b[0;31mTypeError\u001b[0m                                 Traceback (most recent call last)",
      "\u001b[0;32m<ipython-input-100-4f658bd45dbf>\u001b[0m in \u001b[0;36m<module>\u001b[0;34m()\u001b[0m\n\u001b[1;32m     20\u001b[0m \u001b[0;34m\u001b[0m\u001b[0m\n\u001b[1;32m     21\u001b[0m \u001b[0;31m# take image\u001b[0m\u001b[0;34m\u001b[0m\u001b[0;34m\u001b[0m\u001b[0;34m\u001b[0m\u001b[0m\n\u001b[0;32m---> 22\u001b[0;31m \u001b[0mmove_to_coord\u001b[0m\u001b[0;34m(\u001b[0m\u001b[0mposition_sample_light\u001b[0m\u001b[0;34m,\u001b[0m \u001b[0moffset\u001b[0m\u001b[0;34m=\u001b[0m\u001b[0;34m(\u001b[0m\u001b[0;36m2\u001b[0m\u001b[0;34m,\u001b[0m\u001b[0;34m-\u001b[0m\u001b[0;36m2\u001b[0m\u001b[0;34m,\u001b[0m\u001b[0;36m0\u001b[0m\u001b[0;34m)\u001b[0m\u001b[0;34m,\u001b[0m \u001b[0mminimum_z_height\u001b[0m\u001b[0;34m=\u001b[0m\u001b[0mminimum_z_height\u001b[0m\u001b[0;34m)\u001b[0m\u001b[0;34m\u001b[0m\u001b[0;34m\u001b[0m\u001b[0m\n\u001b[0m\u001b[1;32m     23\u001b[0m \u001b[0mmicroscope\u001b[0m\u001b[0;34m.\u001b[0m\u001b[0mcapture_image_to_disk\u001b[0m\u001b[0;34m(\u001b[0m\u001b[0;34m)\u001b[0m\u001b[0;34m\u001b[0m\u001b[0;34m\u001b[0m\u001b[0m\n",
      "\u001b[0;31mTypeError\u001b[0m: move_to_coord() missing 1 required positional argument: 'position_xyz'"
     ]
    }
   ],
   "source": [
    "pipette.home()\n",
    "i_pipette = pickup_fresh_pipette_tip(i_pipette, pipette, tiprack)\n",
    "\n",
    "# add primary to sample\n",
    "V_aspirate = 200\n",
    "\n",
    "# move the wellplate to the zero position with the microscope\n",
    "microscope.move(home_position_microscope, absolute=True)\n",
    "\n",
    "for i in range(3):\n",
    "    # Do that 3 times\n",
    "    for i_pos in range(len(plate_sample.rows()[0:3])):\n",
    "        \n",
    "        # 2. Move to Sample location and aspirate liquid \n",
    "        position_sample_i = np.array(plate_sample.wells()[0].center()._point)+np.array((offset_well_x,offset_well_y,offset_well_z))\n",
    "        move_to_coord(pipette, position_sample_i, offset=(0,0,0), minimum_z_height=minimum_z_height)\n",
    "        pipette.aspirate(V_aspirate)\n",
    "\n",
    "        #\n",
    "        # 3. Trash the liquid\n",
    "        move_to_coord(pipette, position_trash, offset=(0,0,offset_z_reagents), minimum_z_height=minimum_z_height)\n",
    "        pipette.dispense()\n",
    "        pipette.blow_out()\n",
    "        \n",
    "        # 4. grab PBS and aspirate\n",
    "        move_to_coord(pipette, position_pbs, offset=(0,0,offset_z_reagents), minimum_z_height=minimum_z_height)\n",
    "        pipette.aspirate(V_aspirate)\n",
    "\n",
    "        # 5. go to microscope and dispense\n",
    "        position_sample_i = np.array(plate_sample.wells()[0].center()._point)+np.array((offset_well_x,offset_well_y,offset_well_z))\n",
    "        move_to_coord(pipette, position_sample_i, offset=(0,0,0), minimum_z_height=minimum_z_height)\n",
    "        pipette.dispense(V_aspirate)        \n",
    "        pipette.blow_out()        \n",
    "    "
   ]
  },
  {
   "cell_type": "markdown",
   "metadata": {},
   "source": [
    "# Do a timelapse with fluorescence"
   ]
  },
  {
   "cell_type": "code",
   "execution_count": null,
   "metadata": {},
   "outputs": [],
   "source": [
    "# Microscope coordinates\n",
    "mytime = time.time()\n",
    "i_timelapse_before = 1\n",
    "t_duration = 60 # minutes\n",
    "focus_pos_list = None # start with a fresh list\n",
    "while ((time.time()-mytime)<(t_duration*60)):\n",
    "    time_now = time.time()\n",
    "    \n",
    "    # perform a testing well scan by moving robot to light position and do a whole plate scan\n",
    "    move_to_coord(pipette_8, position_sample_light, offset=(0,0,0), minimum_z_height=minimum_z_height)\n",
    "    focus_pos_list = wellscan(microscope, offset_x, offset_y, i_experiment,\n",
    "            Nx, Ny, well_to_well_steps,\n",
    "            autofocus_dz, autofocus_Nz,\n",
    "                name_experiment=\"wellscan_\",\n",
    "                focus_pos_list=focus_pos_list, is_autofocus=True, \n",
    "                I_laser=255, I_led=1)"
   ]
  }
 ],
 "metadata": {
  "kernelspec": {
   "display_name": "Python 3",
   "language": "python",
   "name": "python3"
  },
  "language_info": {
   "codemirror_mode": {
    "name": "ipython",
    "version": 3
   },
   "file_extension": ".py",
   "mimetype": "text/x-python",
   "name": "python",
   "nbconvert_exporter": "python",
   "pygments_lexer": "ipython3",
   "version": "3.7.7"
  }
 },
 "nbformat": 4,
 "nbformat_minor": 2
}
