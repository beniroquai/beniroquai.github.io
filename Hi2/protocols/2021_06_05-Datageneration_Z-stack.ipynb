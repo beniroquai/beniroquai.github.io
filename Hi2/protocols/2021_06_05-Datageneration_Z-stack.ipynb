{
 "cells": [
  {
   "cell_type": "code",
   "execution_count": 1,
   "metadata": {},
   "outputs": [],
   "source": [
    "'''\n",
    "Connect to the microscope \n",
    "'''\n",
    "from  opentrons_helper_class import * \n",
    "from microscope_client import MicroscopeClient \n",
    "microscope = MicroscopeClient(host=\"21.3.2.3\", port=5000)\n",
    "#!pip3 install zeroconf\n",
    "#!pip3 install requests\n"
   ]
  },
  {
   "cell_type": "code",
   "execution_count": 52,
   "metadata": {},
   "outputs": [
    {
     "name": "stdout",
     "output_type": "stream",
     "text": [
      "{'x': 5000, 'y': -1000, 'z': 1500}\n"
     ]
    }
   ],
   "source": [
    "# lets assume the robots light source is in place \n",
    "microscope.set_laser_led(i_laser=0, i_led=1)\n",
    "\n",
    "\n",
    "# lets define the position for the seventh well (ID)\n",
    "offset_x = 5000\n",
    "offset_y = -1000\n",
    "offset_z = 1500\n",
    "\n",
    "microscope.move((offset_x, offset_y, offset_z))\n",
    "\n",
    "print(microscope.position)\n",
    "\n",
    "#microscope.move()"
   ]
  },
  {
   "cell_type": "code",
   "execution_count": null,
   "metadata": {},
   "outputs": [],
   "source": [
    "offset_z\n",
    "I_laser = 0\n",
    "I_led = 1\n",
    "id = 0\n"
   ]
  },
  {
   "cell_type": "code",
   "execution_count": 65,
   "metadata": {
    "scrolled": true
   },
   "outputs": [
    {
     "name": "stdout",
     "output_type": "stream",
     "text": [
      "Moving to well location:91at: [4]/[11]/9000\n",
      "At Location: [41000] [98000] -1461\n",
      "-2349\n",
      "Moving to well location:92at: [3]/[11]/9000\n",
      "At Location: [32000] [98000] -2349\n",
      "-3221\n",
      "Moving to well location:93at: [2]/[11]/9000\n",
      "At Location: [23000] [98000] -3221\n",
      "-3242\n"
     ]
    }
   ],
   "source": [
    "# create the object for the well scanner \n",
    "wellscanner = Hi2Module( microscope, well_to_well_steps=9000,\n",
    "             N_wells = 96, Nx = 8, Ny = 12)\n",
    "\n",
    "# set the well-position of the well number  7 \n",
    "wellscanner.set_offset_for_well_id_7(offset_x, offset_y)\n",
    "\n",
    "\n",
    "#microscope.home()\n",
    "for id in range(91,94):\n",
    "\n",
    "    # first go to well ID \n",
    "    wellscanner.move_to_well_id(offset_z=None, well_index=id)\n",
    "    \n",
    "    # get the acutal position of the microscope\n",
    "    current_x, current_y, _ = microscope.position['x'],  microscope.position['y'],  microscope.position['z']\n",
    "    \n",
    "   # current_x += np.radnom.rnadniintcurrent_x+ 500\n",
    "    \n",
    "    microscope.set_laser_led(I_laser,I_led)\n",
    "    \n",
    "    offset_z = microscope.autofocus_coarse(dz=1000, nz=15)\n",
    "    current_x, current_y, _ = microscope.position['x'],  microscope.position['y'],  microscope.position['z']\n",
    "    \n",
    "\n",
    "    # 1. capture the in-focus image\n",
    "    base_filename = 'data_generation_GAN_'\n",
    "    params = {\n",
    "        \"filename\": base_filename+\"in_focus_edit3_\"+str(id),\n",
    "    }\n",
    "    microscope.set_laser_led(I_laser,I_led)\n",
    "    microscope.move((offset_x, offset_y, offset_z))\n",
    "    time.sleep(1)\n",
    "    microscope.capture_image_to_disk(params)\n",
    "\n",
    "    max_dz = 200 # the maximum value the focus may differ => plus minus max_dz/2\n",
    "    offset_z_defocus = offset_z+ np.random.randint(max_dz)-(max_dz//2)\n",
    "    print(offset_z_defocus)\n",
    "\n",
    "    # 2. cpature the defocus image \n",
    "    params = {\n",
    "        \"filename\": base_filename+\"de_focus_edit3_\"+str(id),\n",
    "    }\n",
    "\n",
    "    microscope.move((current_x, current_y, offset_z_defocus))\n",
    "    time.sleep(1) # debounce any vibvration\n",
    "    microscope.capture_image_to_disk(params)\n",
    "\n"
   ]
  },
  {
   "cell_type": "code",
   "execution_count": 53,
   "metadata": {},
   "outputs": [
    {
     "name": "stdout",
     "output_type": "stream",
     "text": [
      "Moving to well location:2at: [5]/[0]/9000\n",
      "At Location: [50000] [-1000] -4\n"
     ]
    }
   ],
   "source": []
  },
  {
   "cell_type": "code",
   "execution_count": null,
   "metadata": {},
   "outputs": [],
   "source": [
    "\n",
    "\n",
    "num_cell_list = []\n",
    "autofocus_dz = 2000\n",
    "autofocus_Nz= 15\n",
    "mytime = -time.time()\n",
    "#t_duration = 20 # minutes\n",
    "focus_pos_list = None # start with a fresh list\n",
    "well_to_well_steps= 9000\n",
    "t_duration = 60 # how long does the experiment preform?\n",
    "t_period = 5 # min - how often should the expimrent be carried out?\n",
    "is_autofocus = \"normal\"\n",
    "is_find_prefocus = True\n",
    "\n",
    "i_experiment = 0\n",
    "\n",
    "timestamp = str( 0)\n",
    "\n",
    "well_id_list = np.arange(0,32)\n",
    "well_id_list = (7,0,24,31)\n",
    "\n",
    "#\n",
    "wellscanner = Hi2Module( microscope, well_to_well_steps=9000,\n",
    "             N_wells = 96, Nx = 8, Ny = 12)\n",
    "\n",
    "# set the well-position of the well number  7 \n",
    "wellscanner.set_offset_for_well_id_7(offset_x, offset_y)\n",
    "\n",
    "# test the functions \n",
    "well_xy_pos = wellscanner.wellid_to_xy(well_id_list)[0]\n",
    "\n",
    "# fit 2d plane to focus points    \n",
    "wellscanner.gen_focus_pos_list(calib_well_ids=well_id_list)\n",
    "\n",
    "# get fitting parameters\n",
    "c_fit = wellscanner.get_focus_fit_func()\n",
    "print(c_fit)\n",
    "\n",
    "# test motion\n",
    "wellscanner.move_to_well_xy(offset_z=None, pos_xy=(0,0))\n",
    "wellscanner.move_to_well_id(offset_z=None, well_index=(0,0))\n",
    "\n",
    "# perform a testing well scan by moving robot to light position and do a whole plate scan\n",
    "#move_to_coord(pipette_8, position_sample_light, offset=(0,0,0), minimum_z_height=minimum_z_height)\n",
    "wellscanner.wellscan_list(\n",
    "            i_experiment,\n",
    "            well_id_list,\n",
    "            autofocus_dz, \n",
    "            autofocus_Nz,\n",
    "            name_experiment=\"wellscan_defocus_infocus_\",\n",
    "            is_autofocus=is_autofocus, \n",
    "            I_laser=0, \n",
    "            I_led=1,\n",
    "            t_debounce=.5,\n",
    "            is_find_prefocus=is_find_prefocus,\n",
    "            process_func=None)\n",
    "\n",
    "'''\n",
    "wellscanner.wellscan_list(\n",
    "            i_experiment,\n",
    "            well_id_list,\n",
    "            autofocus_dz, \n",
    "            autofocus_Nz,\n",
    "            name_experiment=\"wellscan_\",\n",
    "            is_autofocus=False, \n",
    "            I_laser=0, \n",
    "            I_led=1,\n",
    "            t_debounce=.5,\n",
    "            is_find_prefocus=is_find_prefocus,\n",
    "            process_func=None)\n",
    "'''\n",
    "\n",
    "microscope.autofocus_coarse\n",
    "microscope.set_laser_led\n",
    "microscope.move()"
   ]
  },
  {
   "cell_type": "markdown",
   "metadata": {},
   "source": [
    "### Go to XY position\n",
    "### Turn on light\n",
    "### Do autofocus\n",
    "### take a snapshot\n",
    "### detune focus +/- random z value\n",
    "### take snapshot_2"
   ]
  },
  {
   "cell_type": "code",
   "execution_count": null,
   "metadata": {},
   "outputs": [],
   "source": []
  }
 ],
 "metadata": {
  "kernelspec": {
   "display_name": "Python 3",
   "language": "python",
   "name": "python3"
  },
  "language_info": {
   "codemirror_mode": {
    "name": "ipython",
    "version": 3
   },
   "file_extension": ".py",
   "mimetype": "text/x-python",
   "name": "python",
   "nbconvert_exporter": "python",
   "pygments_lexer": "ipython3",
   "version": "3.7.1"
  }
 },
 "nbformat": 4,
 "nbformat_minor": 2
}
